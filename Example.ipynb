{
 "cells": [
  {
   "cell_type": "code",
   "execution_count": null,
   "metadata": {},
   "outputs": [],
   "source": [
    "import numpy as np\n",
    "from lumawig import bottleneck0\n",
    "import dionysus, time\n",
    "import matplotlib.pyplot as plt\n",
    "import seaborn as sns\n",
    "import matplotlib.pyplot as plt\n"
   ]
  },
  {
   "cell_type": "code",
   "execution_count": null,
   "metadata": {},
   "outputs": [],
   "source": [
    "#simulate random non-empty dimension 0 persistence diagrams\n",
    "\n",
    "num_points1 = 1000\n",
    "num_points2 = 2000\n",
    "\n",
    "diag1 = np.random.uniform(low=0.0, high=10000.0, size=num_points1)\n",
    "diag2 = np.random.uniform(low=0.0, high=10000.0, size=num_points2)"
   ]
  },
  {
   "cell_type": "code",
   "execution_count": null,
   "metadata": {},
   "outputs": [],
   "source": [
    "#Compute dimension 0 bottleneck distance using Lumawig and track running time\n",
    "\n",
    "t0_l = time.time()\n",
    "b0_l = bottleneck0(diag1,diag2)\n",
    "t1_l = time.time()\n",
    "print(\"The dimension 0 bottleneck distance is: \" + str(b0_l))\n",
    "print(\"Computation time: \" + str(t1_l-t0_l) + \" sec\")"
   ]
  },
  {
   "cell_type": "code",
   "execution_count": null,
   "metadata": {},
   "outputs": [],
   "source": [
    "#Format as dionysus.Diagram for comparison\n",
    "\n",
    "dgms1 = dionysus._dionysus.Diagram(np.transpose(np.array([np.zeros(len(diag1)),diag1])))\n",
    "dgms2 = dionysus._dionysus.Diagram(np.transpose(np.array([np.zeros(len(diag2)),diag2])))\n",
    "delta = 0.0001 #Set tuning parameter for Hera, smaller delta means sharper approximate"
   ]
  },
  {
   "cell_type": "code",
   "execution_count": null,
   "metadata": {},
   "outputs": [],
   "source": [
    "#Compute dimension 0 bottleneck distance using Hera and track running time\n",
    "\n",
    "t0 = time.time()\n",
    "b0 = dionysus.bottleneck_distance(dgms1, dgms2,delta = delta)\n",
    "t1 = time.time()\n",
    "print(\"The dimension 0 bottleneck distance is: \" + str(b0))\n",
    "print(\"Computation time: \" + str(t1-t0) + \" sec\")"
   ]
  },
  {
   "cell_type": "code",
   "execution_count": null,
   "metadata": {},
   "outputs": [],
   "source": [
    "#Show that values from Hera approach Lumawig's output as the delta parameter varies\n",
    "\n",
    "times = []\n",
    "deltas = [1/(10**delta) for delta in np.arange(1,7,0.5)] #Set several delta values\n",
    "y = []\n",
    "for delta in deltas:\n",
    "    t0 = time.time()\n",
    "    y = np.append(y,dionysus.bottleneck_distance(dgms1, dgms2,delta = delta))\n",
    "    t1 = time.time()\n",
    "    times = np.append(times,t1-t0)\n",
    "\n",
    "fig, ax = plt.subplots()\n",
    "cmap = sns.cubehelix_palette(as_cmap=True)\n",
    "points = plt.scatter(deltas,y,c = times, alpha=0.45, s=40, marker = \"s\",cmap=cmap)\n",
    "\n",
    "#mark Lumawig's output \n",
    "plt.plot(np.array(plt.gca().get_xlim()),bottleneck0(diag1,diag2)+np.zeros(len(np.array(plt.gca().get_xlim()))), '--',color=\"black\")\n",
    "\n",
    "#Plot the Hera's output\n",
    "plt.title(\"Bottleneck output of Hera relative to Lumawig's\")\n",
    "ax.set_xscale('log')\n",
    "ax.set_ylabel('bottleneck distance')\n",
    "ax.set_xlabel('delta')\n",
    "fig.colorbar(points).ax.set_ylabel('running time (Hera)', rotation=270, labelpad=18)\n"
   ]
  },
  {
   "cell_type": "code",
   "execution_count": null,
   "metadata": {},
   "outputs": [],
   "source": []
  }
 ],
 "metadata": {
  "kernelspec": {
   "display_name": "Python 3",
   "language": "python",
   "name": "python3"
  },
  "language_info": {
   "codemirror_mode": {
    "name": "ipython",
    "version": 3
   },
   "file_extension": ".py",
   "mimetype": "text/x-python",
   "name": "python",
   "nbconvert_exporter": "python",
   "pygments_lexer": "ipython3",
   "version": "3.8.3"
  }
 },
 "nbformat": 4,
 "nbformat_minor": 4
}
